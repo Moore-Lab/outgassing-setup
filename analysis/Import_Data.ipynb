{
 "cells": [
  {
   "cell_type": "code",
   "execution_count": 1,
   "metadata": {},
   "outputs": [],
   "source": [
    "import numpy as np\n",
    "import pandas as pd\n",
    "import matplotlib.pyplot as plt\n",
    "import os"
   ]
  },
  {
   "cell_type": "code",
   "execution_count": 2,
   "metadata": {},
   "outputs": [],
   "source": [
    "from data_io import DataIO # Custom IO file"
   ]
  },
  {
   "cell_type": "code",
   "execution_count": 3,
   "metadata": {},
   "outputs": [],
   "source": [
    "run_label = '20210707' ## change this as needed"
   ]
  },
  {
   "cell_type": "code",
   "execution_count": 4,
   "metadata": {},
   "outputs": [
    {
     "name": "stdout",
     "output_type": "stream",
     "text": [
      "/gpfs/loomis/project/david_moore/aj487/Data_WL110/Outgassing_Setup/20210707/\n"
     ]
    }
   ],
   "source": [
    "Path = \"/gpfs/loomis/project/david_moore/aj487/Data_WL110/Outgassing_Setup/{}/\".format(run_label)\n",
    "print(Path)"
   ]
  },
  {
   "cell_type": "code",
   "execution_count": 5,
   "metadata": {},
   "outputs": [],
   "source": [
    "IO = DataIO(Path)"
   ]
  },
  {
   "cell_type": "code",
   "execution_count": 6,
   "metadata": {},
   "outputs": [
    {
     "name": "stdout",
     "output_type": "stream",
     "text": [
      "Number of files found: 10956\n"
     ]
    }
   ],
   "source": [
    "IO.Unzip()\n",
    "print('Number of files found: {}'.format(len(IO.RGAFiles)))"
   ]
  },
  {
   "cell_type": "code",
   "execution_count": null,
   "metadata": {},
   "outputs": [],
   "source": [
    "IO.GetRGAData(Size=-1)"
   ]
  },
  {
   "cell_type": "code",
   "execution_count": null,
   "metadata": {},
   "outputs": [],
   "source": [
    "IO.RemoveUnzippedDir()"
   ]
  },
  {
   "cell_type": "code",
   "execution_count": null,
   "metadata": {},
   "outputs": [],
   "source": [
    "IO.GetTemperatureData()\n",
    "IO.TempData"
   ]
  },
  {
   "cell_type": "code",
   "execution_count": null,
   "metadata": {},
   "outputs": [],
   "source": [
    "IO.RGAData.sort_values(by=['Datetime', 'Mass'], inplace=True)\n",
    "IO.TempData.sort_values(by='Datetime', inplace=True)"
   ]
  },
  {
   "cell_type": "code",
   "execution_count": null,
   "metadata": {},
   "outputs": [],
   "source": [
    "rga_start = IO.RGAData['Datetime'].sort_values().unique()[0]\n",
    "temps_start = IO.TempData['Datetime'].sort_values().unique()[0]"
   ]
  },
  {
   "cell_type": "code",
   "execution_count": null,
   "metadata": {},
   "outputs": [],
   "source": [
    "if rga_start < temps_start:\n",
    "    start_datetime = rga_start\n",
    "else:\n",
    "    start_datetime = temps_start"
   ]
  },
  {
   "cell_type": "code",
   "execution_count": null,
   "metadata": {},
   "outputs": [],
   "source": [
    "print(start_datetime)"
   ]
  },
  {
   "cell_type": "code",
   "execution_count": null,
   "metadata": {},
   "outputs": [],
   "source": [
    "temp_times = (IO.TempData['Datetime'] - start_datetime)/np.timedelta64(1, 's')"
   ]
  },
  {
   "cell_type": "code",
   "execution_count": null,
   "metadata": {},
   "outputs": [],
   "source": [
    "gases = ['H2', 'H2O', 'N2', 'O2', 'CO2']\n",
    "gas_masses = [2.0, 18.0, 28.0, 32.0, 44.0]"
   ]
  },
  {
   "cell_type": "code",
   "execution_count": null,
   "metadata": {},
   "outputs": [],
   "source": [
    "final_tables = [] # list of pandas tables containing final data for each gas\n",
    "\n",
    "for idx, gas in enumerate(gases):\n",
    "    \n",
    "    gas_data = IO.RGAData[IO.RGAData['Mass'] == gas_masses[idx]]\n",
    "    gas_times = (gas_data['Datetime'] - start_datetime)/np.timedelta64(1, 's')\n",
    "    gas_ch1_lerp = np.interp(gas_times, temp_times, pd.to_numeric(IO.TempData['CH1']))\n",
    "    gas_ch2_lerp = np.interp(gas_times, temp_times, pd.to_numeric(IO.TempData['CH2']))\n",
    "    \n",
    "    gas_final_data = pd.DataFrame(data=gas_times)\n",
    "    gas_final_data.columns = ['exp_time']\n",
    "    gas_final_data['pressure'] = gas_data['Pressure']\n",
    "    # Celsius to Kelvin\n",
    "    gas_final_data['ch1_lerp'] = gas_ch1_lerp + 273.2\n",
    "    gas_final_data['ch2_lerp'] = gas_ch2_lerp + 273.2\n",
    "    gas_final_data['mean_temp'] = (gas_final_data['ch1_lerp'] + gas_final_data['ch2_lerp'])/2.0\n",
    "    \n",
    "    final_tables.append(gas_final_data)"
   ]
  },
  {
   "cell_type": "code",
   "execution_count": null,
   "metadata": {},
   "outputs": [],
   "source": [
    "hdf_name = '{}/{}.h5'.format(Path,run_label)\n",
    "\n",
    "if os.path.exists(hdf_name):\n",
    "    os.remove(hdf_name) # I want to use the append feature, and I don't want old data frames still in the file\n",
    "\n",
    "for idx, gas in enumerate(gases):\n",
    "    final_tables[idx].sort_values(by='exp_time', inplace=True) # one more sort just to be sure\n",
    "    final_tables[idx].to_hdf(hdf_name, key=gas)"
   ]
  },
  {
   "cell_type": "code",
   "execution_count": null,
   "metadata": {},
   "outputs": [],
   "source": []
  }
 ],
 "metadata": {
  "kernelspec": {
   "display_name": "Python 3",
   "language": "python",
   "name": "python3"
  },
  "language_info": {
   "codemirror_mode": {
    "name": "ipython",
    "version": 3
   },
   "file_extension": ".py",
   "mimetype": "text/x-python",
   "name": "python",
   "nbconvert_exporter": "python",
   "pygments_lexer": "ipython3",
   "version": "3.8.6"
  }
 },
 "nbformat": 4,
 "nbformat_minor": 4
}
